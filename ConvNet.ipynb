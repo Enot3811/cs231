{
  "nbformat": 4,
  "nbformat_minor": 0,
  "metadata": {
    "colab": {
      "name": "ConvNet.ipynb",
      "provenance": [],
      "collapsed_sections": []
    },
    "kernelspec": {
      "name": "python3",
      "display_name": "Python 3"
    },
    "language_info": {
      "name": "python"
    },
    "accelerator": "GPU",
    "widgets": {
      "application/vnd.jupyter.widget-state+json": {
        "0ab5486e50f54a45935da511fadf223d": {
          "model_module": "@jupyter-widgets/controls",
          "model_name": "HBoxModel",
          "model_module_version": "1.5.0",
          "state": {
            "_view_name": "HBoxView",
            "_dom_classes": [],
            "_model_name": "HBoxModel",
            "_view_module": "@jupyter-widgets/controls",
            "_model_module_version": "1.5.0",
            "_view_count": null,
            "_view_module_version": "1.5.0",
            "box_style": "",
            "layout": "IPY_MODEL_22dfd43c553b4b968af75e9c1e578bef",
            "_model_module": "@jupyter-widgets/controls",
            "children": [
              "IPY_MODEL_dce2bc286d3f435db7bbb2e726719b34",
              "IPY_MODEL_b0dfb1de3ad14394be839514fe0111f8",
              "IPY_MODEL_62bf8d62adc0494f93f84668fb295ea3"
            ]
          }
        },
        "22dfd43c553b4b968af75e9c1e578bef": {
          "model_module": "@jupyter-widgets/base",
          "model_name": "LayoutModel",
          "model_module_version": "1.2.0",
          "state": {
            "_view_name": "LayoutView",
            "grid_template_rows": null,
            "right": null,
            "justify_content": null,
            "_view_module": "@jupyter-widgets/base",
            "overflow": null,
            "_model_module_version": "1.2.0",
            "_view_count": null,
            "flex_flow": null,
            "width": null,
            "min_width": null,
            "border": null,
            "align_items": null,
            "bottom": null,
            "_model_module": "@jupyter-widgets/base",
            "top": null,
            "grid_column": null,
            "overflow_y": null,
            "overflow_x": null,
            "grid_auto_flow": null,
            "grid_area": null,
            "grid_template_columns": null,
            "flex": null,
            "_model_name": "LayoutModel",
            "justify_items": null,
            "grid_row": null,
            "max_height": null,
            "align_content": null,
            "visibility": null,
            "align_self": null,
            "height": null,
            "min_height": null,
            "padding": null,
            "grid_auto_rows": null,
            "grid_gap": null,
            "max_width": null,
            "order": null,
            "_view_module_version": "1.2.0",
            "grid_template_areas": null,
            "object_position": null,
            "object_fit": null,
            "grid_auto_columns": null,
            "margin": null,
            "display": null,
            "left": null
          }
        },
        "dce2bc286d3f435db7bbb2e726719b34": {
          "model_module": "@jupyter-widgets/controls",
          "model_name": "HTMLModel",
          "model_module_version": "1.5.0",
          "state": {
            "_view_name": "HTMLView",
            "style": "IPY_MODEL_e9c41371b7324b4792000a97bf934969",
            "_dom_classes": [],
            "description": "",
            "_model_name": "HTMLModel",
            "placeholder": "​",
            "_view_module": "@jupyter-widgets/controls",
            "_model_module_version": "1.5.0",
            "value": "",
            "_view_count": null,
            "_view_module_version": "1.5.0",
            "description_tooltip": null,
            "_model_module": "@jupyter-widgets/controls",
            "layout": "IPY_MODEL_b99c2803726240f38dae9beeaf58853b"
          }
        },
        "b0dfb1de3ad14394be839514fe0111f8": {
          "model_module": "@jupyter-widgets/controls",
          "model_name": "FloatProgressModel",
          "model_module_version": "1.5.0",
          "state": {
            "_view_name": "ProgressView",
            "style": "IPY_MODEL_411b9c3819ce43eca130b0a788c79335",
            "_dom_classes": [],
            "description": "",
            "_model_name": "FloatProgressModel",
            "bar_style": "success",
            "max": 170498071,
            "_view_module": "@jupyter-widgets/controls",
            "_model_module_version": "1.5.0",
            "value": 170498071,
            "_view_count": null,
            "_view_module_version": "1.5.0",
            "orientation": "horizontal",
            "min": 0,
            "description_tooltip": null,
            "_model_module": "@jupyter-widgets/controls",
            "layout": "IPY_MODEL_012cfb77805d4845a77bfd5cbe7489c9"
          }
        },
        "62bf8d62adc0494f93f84668fb295ea3": {
          "model_module": "@jupyter-widgets/controls",
          "model_name": "HTMLModel",
          "model_module_version": "1.5.0",
          "state": {
            "_view_name": "HTMLView",
            "style": "IPY_MODEL_95a83392178f4d33bfdc137ffbb4a3cc",
            "_dom_classes": [],
            "description": "",
            "_model_name": "HTMLModel",
            "placeholder": "​",
            "_view_module": "@jupyter-widgets/controls",
            "_model_module_version": "1.5.0",
            "value": " 170499072/? [00:11&lt;00:00, 16662808.92it/s]",
            "_view_count": null,
            "_view_module_version": "1.5.0",
            "description_tooltip": null,
            "_model_module": "@jupyter-widgets/controls",
            "layout": "IPY_MODEL_458d4c921a1746e989a532055ef2f395"
          }
        },
        "e9c41371b7324b4792000a97bf934969": {
          "model_module": "@jupyter-widgets/controls",
          "model_name": "DescriptionStyleModel",
          "model_module_version": "1.5.0",
          "state": {
            "_view_name": "StyleView",
            "_model_name": "DescriptionStyleModel",
            "description_width": "",
            "_view_module": "@jupyter-widgets/base",
            "_model_module_version": "1.5.0",
            "_view_count": null,
            "_view_module_version": "1.2.0",
            "_model_module": "@jupyter-widgets/controls"
          }
        },
        "b99c2803726240f38dae9beeaf58853b": {
          "model_module": "@jupyter-widgets/base",
          "model_name": "LayoutModel",
          "model_module_version": "1.2.0",
          "state": {
            "_view_name": "LayoutView",
            "grid_template_rows": null,
            "right": null,
            "justify_content": null,
            "_view_module": "@jupyter-widgets/base",
            "overflow": null,
            "_model_module_version": "1.2.0",
            "_view_count": null,
            "flex_flow": null,
            "width": null,
            "min_width": null,
            "border": null,
            "align_items": null,
            "bottom": null,
            "_model_module": "@jupyter-widgets/base",
            "top": null,
            "grid_column": null,
            "overflow_y": null,
            "overflow_x": null,
            "grid_auto_flow": null,
            "grid_area": null,
            "grid_template_columns": null,
            "flex": null,
            "_model_name": "LayoutModel",
            "justify_items": null,
            "grid_row": null,
            "max_height": null,
            "align_content": null,
            "visibility": null,
            "align_self": null,
            "height": null,
            "min_height": null,
            "padding": null,
            "grid_auto_rows": null,
            "grid_gap": null,
            "max_width": null,
            "order": null,
            "_view_module_version": "1.2.0",
            "grid_template_areas": null,
            "object_position": null,
            "object_fit": null,
            "grid_auto_columns": null,
            "margin": null,
            "display": null,
            "left": null
          }
        },
        "411b9c3819ce43eca130b0a788c79335": {
          "model_module": "@jupyter-widgets/controls",
          "model_name": "ProgressStyleModel",
          "model_module_version": "1.5.0",
          "state": {
            "_view_name": "StyleView",
            "_model_name": "ProgressStyleModel",
            "description_width": "",
            "_view_module": "@jupyter-widgets/base",
            "_model_module_version": "1.5.0",
            "_view_count": null,
            "_view_module_version": "1.2.0",
            "bar_color": null,
            "_model_module": "@jupyter-widgets/controls"
          }
        },
        "012cfb77805d4845a77bfd5cbe7489c9": {
          "model_module": "@jupyter-widgets/base",
          "model_name": "LayoutModel",
          "model_module_version": "1.2.0",
          "state": {
            "_view_name": "LayoutView",
            "grid_template_rows": null,
            "right": null,
            "justify_content": null,
            "_view_module": "@jupyter-widgets/base",
            "overflow": null,
            "_model_module_version": "1.2.0",
            "_view_count": null,
            "flex_flow": null,
            "width": null,
            "min_width": null,
            "border": null,
            "align_items": null,
            "bottom": null,
            "_model_module": "@jupyter-widgets/base",
            "top": null,
            "grid_column": null,
            "overflow_y": null,
            "overflow_x": null,
            "grid_auto_flow": null,
            "grid_area": null,
            "grid_template_columns": null,
            "flex": null,
            "_model_name": "LayoutModel",
            "justify_items": null,
            "grid_row": null,
            "max_height": null,
            "align_content": null,
            "visibility": null,
            "align_self": null,
            "height": null,
            "min_height": null,
            "padding": null,
            "grid_auto_rows": null,
            "grid_gap": null,
            "max_width": null,
            "order": null,
            "_view_module_version": "1.2.0",
            "grid_template_areas": null,
            "object_position": null,
            "object_fit": null,
            "grid_auto_columns": null,
            "margin": null,
            "display": null,
            "left": null
          }
        },
        "95a83392178f4d33bfdc137ffbb4a3cc": {
          "model_module": "@jupyter-widgets/controls",
          "model_name": "DescriptionStyleModel",
          "model_module_version": "1.5.0",
          "state": {
            "_view_name": "StyleView",
            "_model_name": "DescriptionStyleModel",
            "description_width": "",
            "_view_module": "@jupyter-widgets/base",
            "_model_module_version": "1.5.0",
            "_view_count": null,
            "_view_module_version": "1.2.0",
            "_model_module": "@jupyter-widgets/controls"
          }
        },
        "458d4c921a1746e989a532055ef2f395": {
          "model_module": "@jupyter-widgets/base",
          "model_name": "LayoutModel",
          "model_module_version": "1.2.0",
          "state": {
            "_view_name": "LayoutView",
            "grid_template_rows": null,
            "right": null,
            "justify_content": null,
            "_view_module": "@jupyter-widgets/base",
            "overflow": null,
            "_model_module_version": "1.2.0",
            "_view_count": null,
            "flex_flow": null,
            "width": null,
            "min_width": null,
            "border": null,
            "align_items": null,
            "bottom": null,
            "_model_module": "@jupyter-widgets/base",
            "top": null,
            "grid_column": null,
            "overflow_y": null,
            "overflow_x": null,
            "grid_auto_flow": null,
            "grid_area": null,
            "grid_template_columns": null,
            "flex": null,
            "_model_name": "LayoutModel",
            "justify_items": null,
            "grid_row": null,
            "max_height": null,
            "align_content": null,
            "visibility": null,
            "align_self": null,
            "height": null,
            "min_height": null,
            "padding": null,
            "grid_auto_rows": null,
            "grid_gap": null,
            "max_width": null,
            "order": null,
            "_view_module_version": "1.2.0",
            "grid_template_areas": null,
            "object_position": null,
            "object_fit": null,
            "grid_auto_columns": null,
            "margin": null,
            "display": null,
            "left": null
          }
        }
      }
    }
  },
  "cells": [
    {
      "cell_type": "code",
      "source": [
        "# This mounts your Google Drive to the Colab VM.\n",
        "from google.colab import drive\n",
        "drive.mount('/content/drive')"
      ],
      "metadata": {
        "colab": {
          "base_uri": "https://localhost:8080/"
        },
        "id": "O5EX71fiTBGg",
        "outputId": "b2f829b5-3163-4116-ab3b-bafd2684d7f6"
      },
      "execution_count": 66,
      "outputs": [
        {
          "output_type": "stream",
          "name": "stdout",
          "text": [
            "Drive already mounted at /content/drive; to attempt to forcibly remount, call drive.mount(\"/content/drive\", force_remount=True).\n"
          ]
        }
      ]
    },
    {
      "cell_type": "code",
      "execution_count": 67,
      "metadata": {
        "colab": {
          "base_uri": "https://localhost:8080/"
        },
        "id": "8dn8Z8yqsxdc",
        "outputId": "6db5e867-e404-4de1-a407-56790fddede0"
      },
      "outputs": [
        {
          "output_type": "stream",
          "name": "stdout",
          "text": [
            "cuda\n"
          ]
        }
      ],
      "source": [
        "import torch\n",
        "import torch.nn as nn\n",
        "import torch.optim as optim\n",
        "from torch.utils.data import DataLoader\n",
        "from torch.utils.data import sampler\n",
        "\n",
        "import torchvision.datasets as dset\n",
        "import torchvision.transforms as T\n",
        "\n",
        "import matplotlib.pyplot as plt\n",
        "\n",
        "USE_GPU = True\n",
        "dtype = torch.float32 # We will be using float throughout this tutorial.\n",
        "\n",
        "if USE_GPU and torch.cuda.is_available():\n",
        "  device = torch.device('cuda')\n",
        "else:\n",
        "  device = torch.device('cpu')\n",
        "\n",
        "print(device)"
      ]
    },
    {
      "cell_type": "code",
      "source": [
        "# Transforms\n",
        "\n",
        "train_transform = T.Compose([\n",
        "                       T.ToTensor(),\n",
        "                       T.Normalize(mean=(0.4914, 0.4822, 0.4465), std=(0.2023, 0.1994, 0.2010)),\n",
        "                       #T.RandomApply([T.ColorJitter(brightness=0.2, contrast=0.2, saturation=0.2, hue=0.2)], p=0.4),\n",
        "                       T.RandomHorizontalFlip(p=0.5),\n",
        "                       #T.RandomApply([T.RandomResizedCrop(size=32)], p=0.3)\n",
        "])\n",
        "\n",
        "validation_transform = T.Compose([\n",
        "                      T.ToTensor(),\n",
        "                      T.Normalize(mean=(0.4914, 0.4822, 0.4465), std=(0.2023, 0.1994, 0.2010))\n",
        "])\n",
        "\n",
        "test_transform = T.Compose([\n",
        "                       T.ToTensor(),\n",
        "                       T.Normalize(mean=(0.4914, 0.4822, 0.4465), std=(0.2023, 0.1994, 0.2010))\n",
        "])"
      ],
      "metadata": {
        "id": "IvYxW9BqtoTP"
      },
      "execution_count": 68,
      "outputs": []
    },
    {
      "cell_type": "code",
      "source": [
        "train_set = dset.CIFAR10('/content/drive/MyDrive/DataSets', train=True, transform=train_transform, download=True)\n",
        "validation_set = dset.CIFAR10('/content/drive/MyDrive/DataSets', train=True, transform=validation_transform, download=True)\n",
        "test_set = dset.CIFAR10('/content/drive/MyDrive/DataSets', train=False, transform=test_transform, download=True)"
      ],
      "metadata": {
        "colab": {
          "base_uri": "https://localhost:8080/",
          "height": 117,
          "referenced_widgets": [
            "0ab5486e50f54a45935da511fadf223d",
            "22dfd43c553b4b968af75e9c1e578bef",
            "dce2bc286d3f435db7bbb2e726719b34",
            "b0dfb1de3ad14394be839514fe0111f8",
            "62bf8d62adc0494f93f84668fb295ea3",
            "e9c41371b7324b4792000a97bf934969",
            "b99c2803726240f38dae9beeaf58853b",
            "411b9c3819ce43eca130b0a788c79335",
            "012cfb77805d4845a77bfd5cbe7489c9",
            "95a83392178f4d33bfdc137ffbb4a3cc",
            "458d4c921a1746e989a532055ef2f395"
          ]
        },
        "id": "zOZSdjfMtG2q",
        "outputId": "6331aaf8-b309-4025-cef8-60b475865776"
      },
      "execution_count": 69,
      "outputs": [
        {
          "output_type": "stream",
          "name": "stdout",
          "text": [
            "Downloading https://www.cs.toronto.edu/~kriz/cifar-10-python.tar.gz to /content/drive/MyDrive/DataSets/cifar-10-python.tar.gz\n"
          ]
        },
        {
          "output_type": "display_data",
          "data": {
            "application/vnd.jupyter.widget-view+json": {
              "model_id": "0ab5486e50f54a45935da511fadf223d",
              "version_minor": 0,
              "version_major": 2
            },
            "text/plain": [
              "  0%|          | 0/170498071 [00:00<?, ?it/s]"
            ]
          },
          "metadata": {}
        },
        {
          "output_type": "stream",
          "name": "stdout",
          "text": [
            "Extracting /content/drive/MyDrive/DataSets/cifar-10-python.tar.gz to /content/drive/MyDrive/DataSets\n",
            "Files already downloaded and verified\n",
            "Files already downloaded and verified\n"
          ]
        }
      ]
    },
    {
      "cell_type": "code",
      "source": [
        "def print_some_images(dataset, start_num=0, num_img=5):\n",
        "\n",
        "  \"\"\"\n",
        "  Print a few image from given dataset\n",
        "  dataset - a dataset with tensors (images)\n",
        "  start_num - an index of the image in the dataset from which the images are taken\n",
        "  num_img - number of showing images (min = 1, max = 10)\n",
        "  \"\"\"\n",
        "\n",
        "  import matplotlib.pyplot as plt\n",
        "\n",
        "  if num_img < 1:\n",
        "    num_img = 1\n",
        "  elif num_img > 10:\n",
        "    num_img = 10\n",
        "\n",
        "  plt.figure(figsize=[20, 7])\n",
        "  for i in range(num_img):\n",
        "    plt.subplot(1, num_img, i + 1)\n",
        "    img, _ = dataset.__getitem__(i + start_num)\n",
        "    plt.imshow(img.permute(1, 2, 0))\n",
        "\n",
        "print_some_images(train_set)\n",
        "print_some_images(test_set)"
      ],
      "metadata": {
        "colab": {
          "base_uri": "https://localhost:8080/",
          "height": 635
        },
        "id": "kHQvWKTm0gvB",
        "outputId": "a55afe03-25b5-46ac-ef67-ddefa087bfad"
      },
      "execution_count": 70,
      "outputs": [
        {
          "output_type": "stream",
          "name": "stderr",
          "text": [
            "Clipping input data to the valid range for imshow with RGB data ([0..1] for floats or [0..255] for integers).\n",
            "Clipping input data to the valid range for imshow with RGB data ([0..1] for floats or [0..255] for integers).\n",
            "Clipping input data to the valid range for imshow with RGB data ([0..1] for floats or [0..255] for integers).\n",
            "Clipping input data to the valid range for imshow with RGB data ([0..1] for floats or [0..255] for integers).\n",
            "Clipping input data to the valid range for imshow with RGB data ([0..1] for floats or [0..255] for integers).\n",
            "Clipping input data to the valid range for imshow with RGB data ([0..1] for floats or [0..255] for integers).\n",
            "Clipping input data to the valid range for imshow with RGB data ([0..1] for floats or [0..255] for integers).\n",
            "Clipping input data to the valid range for imshow with RGB data ([0..1] for floats or [0..255] for integers).\n",
            "Clipping input data to the valid range for imshow with RGB data ([0..1] for floats or [0..255] for integers).\n",
            "Clipping input data to the valid range for imshow with RGB data ([0..1] for floats or [0..255] for integers).\n"
          ]
        },
        {
          "output_type": "display_data",
          "data": {
            "image/png": "[encoded data removed]",
            "text/plain": [
              "<Figure size 1440x504 with 5 Axes>"
            ]
          },
          "metadata": {
            "needs_background": "light"
          }
        },
        {
          "output_type": "display_data",
          "data": {
            "image/png": "[encoded data removed]",
            "text/plain": [
              "<Figure size 1440x504 with 5 Axes>"
            ]
          },
          "metadata": {
            "needs_background": "light"
          }
        }
      ]
    },
    {
      "cell_type": "code",
      "source": [
        "NUM_TRAIN = 49000\n",
        "\n",
        "train_loader = DataLoader(train_set, batch_size=64, sampler=sampler.SubsetRandomSampler(range(0, NUM_TRAIN)))\n",
        "validation_loader = DataLoader(validation_set, batch_size=64, sampler=sampler.SubsetRandomSampler(range(NUM_TRAIN, 50000)))\n",
        "test_loader = DataLoader(test_set, batch_size=64)"
      ],
      "metadata": {
        "id": "GSIAd0zh3J6F"
      },
      "execution_count": 71,
      "outputs": []
    },
    {
      "cell_type": "code",
      "source": [
        "def flatten(X):\n",
        "  \"\"\"\n",
        "  Flatten an image to vector\n",
        "  \"\"\"\n",
        "  N = X.shape[0] # Num in batch\n",
        "  return X.view(N, -1)\n",
        "\n",
        "class Flatten(nn.Module):\n",
        "  def forward(self, X):\n",
        "    return flatten(X)"
      ],
      "metadata": {
        "id": "b2veaeCB4ePV"
      },
      "execution_count": 72,
      "outputs": []
    },
    {
      "cell_type": "code",
      "source": [
        "def train_model(model, optimizer, trainLoader, validationLoader, num_epoch=1, device=torch.device('cpu'), printAndSaveEvery=100, continueTraining=None):\n",
        "  \n",
        "  import torch.nn.functional as F\n",
        "\n",
        "  if continueTraining is None:\n",
        "    print(\"Starting new training\")\n",
        "    best_acc = 0\n",
        "    train_accuracies = []\n",
        "    val_accuracies = []\n",
        "    start_ep = 0\n",
        "  else:\n",
        "    train_accuracies = continueTraining['train_accs']\n",
        "    val_accuracies = continueTraining['val_accs']\n",
        "    start_ep = continueTraining['num_ep']\n",
        "    best_acc = val_accuracies[-1]\n",
        "    print(\"Continue training from \" + str(start_ep) + \" epoch\")\n",
        "\n",
        "  model = model.to(device=device)\n",
        "\n",
        "  for e in range(start_ep, num_epoch):\n",
        "    print(\"Start \" + str(e) + \" epoch\")\n",
        "    for t, (x, y) in enumerate(trainLoader):\n",
        "\n",
        "      model.train()\n",
        "      x = x.to(device=device, dtype=torch.float32)\n",
        "      y = y.to(device=device, dtype=torch.long)\n",
        "\n",
        "      scores = model(x)\n",
        "      loss = F.cross_entropy(scores, y)\n",
        "\n",
        "      optimizer.zero_grad()\n",
        "\n",
        "      loss.backward()\n",
        "\n",
        "      optimizer.step()\n",
        "\n",
        "      if t % printAndSaveEvery == 0 and t != 0:\n",
        "        print(\"Iteration \" + str(t) + \":\")\n",
        "        train_acc = check_accuracy(model, trainLoader, 'train', device)\n",
        "        val_acc = check_accuracy(model, validationLoader, 'validation', device)\n",
        "\n",
        "        train_accuracies.append(train_acc)\n",
        "        val_accuracies.append(val_acc)\n",
        "\n",
        "        if best_acc < val_acc:\n",
        "          print(\"Goten new best val accuracy. Save new best model\")\n",
        "          best_acc = val_acc\n",
        "          torch.save({\n",
        "              'Model_state_dict': model.state_dict(),\n",
        "              'Optimizer_state_dict': optimizer.state_dict(),\n",
        "              'Num_epoch': e,\n",
        "              'Train_accs': train_accuracies,\n",
        "              'Val_accs': val_accuracies\n",
        "          }, '/content/drive/MyDrive/best_model.pt')\n",
        "          \n",
        "\n",
        "    train_acc = check_accuracy(model, trainLoader, 'train', device)\n",
        "    val_acc = check_accuracy(model, validationLoader, 'validation', device)\n",
        "\n",
        "    train_accuracies.append(train_acc)\n",
        "    val_accuracies.append(val_acc)\n",
        "\n",
        "    torch.save({\n",
        "        'Model_state_dict': model.state_dict(),\n",
        "        'Optimizer_state_dict': optimizer.state_dict(),\n",
        "        'Num_epoch': e + 1,\n",
        "        'Train_accs': train_accuracies,\n",
        "        'Val_accs': val_accuracies\n",
        "    }, '/content/drive/MyDrive/model.pt')\n",
        "\n",
        "  return(train_accuracies, val_accuracies)"
      ],
      "metadata": {
        "id": "0ZN96Dg39-Xt"
      },
      "execution_count": 73,
      "outputs": []
    },
    {
      "cell_type": "code",
      "source": [
        "def check_accuracy(model, dataLoader, typeOfCheck, device=torch.device('cpu')):\n",
        "  \"\"\"\n",
        "  Checking accuracy on given dataSet in dataLoader\n",
        "  typeOfCheck - train, validation or test\n",
        "  \"\"\"\n",
        "  model = model.to(device=device)\n",
        "\n",
        "  typeOfCheck = str.lower(typeOfCheck)\n",
        "\n",
        "  model.eval()\n",
        "\n",
        "  num_samples = 0\n",
        "  num_correct = 0\n",
        "\n",
        "  with torch.no_grad():\n",
        "    for i, (x, y) in enumerate(dataLoader):\n",
        "      x = x.to(device=device, dtype=torch.float32)\n",
        "      y = y.to(device=device, dtype=torch.long)\n",
        "\n",
        "      scores = model(x)\n",
        "      _, preds = scores.max(1)\n",
        "\n",
        "      num_samples += preds.shape[0]\n",
        "      num_correct += (preds == y).sum()\n",
        "\n",
        "      if typeOfCheck == 'train' and i == 100: # Чтобы проверяться не на всём огромном train сете (16 * 64 = 1024 как и у validation)\n",
        "        break\n",
        "\n",
        "    acc = float(num_correct) / num_samples\n",
        "    print('Got %d / %d correct (%.2f) in %s'% (num_correct, num_samples, 100 * acc, typeOfCheck))\n",
        "    return acc"
      ],
      "metadata": {
        "id": "tdUAKM7POD5d"
      },
      "execution_count": 74,
      "outputs": []
    },
    {
      "cell_type": "code",
      "source": [
        "def check_overfit_on_small_data(model, dataSet, optimizer, device=torch.device('cpu')):\n",
        "  \n",
        "  import torch.nn.functional as F\n",
        "\n",
        "  loader = DataLoader(dataSet, batch_size=64, sampler=sampler.SubsetRandomSampler(range(0, 100)))\n",
        "\n",
        "  model.to(device=device)\n",
        "  for t, (x, y) in enumerate(loader):\n",
        "    model.train()\n",
        "    x = x.to(device=device, dtype=torch.float32)\n",
        "    y = y.to(device=device, dtype=torch.long)\n",
        "\n",
        "    scores = model(x)\n",
        "    loss = F.cross_entropy(scores, y)\n",
        "\n",
        "    optimizer.zero_grad()\n",
        "\n",
        "    loss.backward()\n",
        "\n",
        "    optimizer.step()\n",
        "\n",
        "    \n",
        "    overfit_acc = check_accuracy(model, loader, 'overfit', device)\n",
        "  \n",
        "  overfit_acc = check_accuracy(model, loader, 'overfit', device)\n",
        "  return(overfit_acc)"
      ],
      "metadata": {
        "id": "nu9D-Zo2SEzJ"
      },
      "execution_count": 75,
      "outputs": []
    },
    {
      "cell_type": "code",
      "source": [
        "def createModel():\n",
        "  model = None\n",
        "  optimizer = None\n",
        "\n",
        "  input_channels = 3\n",
        "  channel_1 = 64\n",
        "  channel_2 = 64\n",
        "  channel_3 = 128\n",
        "  channel_4 = 128\n",
        "  dense_1 = 1024\n",
        "  dense_2 = 512\n",
        "  num_classes = 10\n",
        "\n",
        "  learning_rate = 1e-4\n",
        "  weight_decay = 1e-5\n",
        "\n",
        "  model = nn.Sequential(\n",
        "      nn.Conv2d(in_channels=input_channels, out_channels=channel_1, kernel_size=5, stride=1, padding=2), # 32 x 32 x 128\n",
        "      nn.BatchNorm2d(num_features=channel_1),\n",
        "      nn.ReLU(),\n",
        "      nn.Conv2d(channel_1, channel_2, 5, 1, 2), # 32 x 32 x 64\n",
        "      nn.BatchNorm2d(num_features=channel_2),\n",
        "      nn.ReLU(),\n",
        "      nn.MaxPool2d(kernel_size=2, stride=2), # 16 x 16 x 64\n",
        "      nn.Conv2d(channel_2, channel_3, kernel_size=3, stride=1, padding=1), # 16 x 16 x 128\n",
        "      nn.BatchNorm2d(num_features=channel_3),\n",
        "      nn.ReLU(),\n",
        "      nn.Conv2d(channel_3, channel_4, kernel_size=3, stride=1, padding=1), # 16 x 16 x 128\n",
        "      nn.BatchNorm2d(num_features=channel_4),\n",
        "      nn.ReLU(),\n",
        "      nn.MaxPool2d(kernel_size=2, stride=2), # 8 x 8 x 128\n",
        "      Flatten(),\n",
        "      nn.Linear(8 * 8 * 128, dense_1),\n",
        "      nn.ReLU(),\n",
        "      nn.Linear(dense_1, dense_2),\n",
        "      nn.ReLU(),\n",
        "      nn.Linear(dense_2, num_classes)\n",
        "  )\n",
        "\n",
        "  optimizer = optim.Adam(model.parameters(), lr=learning_rate, weight_decay=weight_decay)\n",
        "\n",
        "  return (model, optimizer)"
      ],
      "metadata": {
        "id": "23BYI9T-ZzPd"
      },
      "execution_count": 76,
      "outputs": []
    },
    {
      "cell_type": "code",
      "source": [
        "# model, optimizer = createModel()\n",
        "# result = check_overfit_on_small_data(model, validation_set, optimizer, device)"
      ],
      "metadata": {
        "id": "N_B6o9dlZx5v"
      },
      "execution_count": 13,
      "outputs": []
    },
    {
      "cell_type": "code",
      "source": [
        "model, optimizer = createModel()\n",
        "train_acc, val_acc = train_model(model, optimizer, train_loader, validation_loader, 1, device, 100)"
      ],
      "metadata": {
        "colab": {
          "base_uri": "https://localhost:8080/"
        },
        "id": "SRvARQuTIIJi",
        "outputId": "608ca642-8162-4461-a7c3-eb31470fafac"
      },
      "execution_count": 39,
      "outputs": [
        {
          "output_type": "stream",
          "name": "stdout",
          "text": [
            "Starting new training\n",
            "Start 0 epoch\n",
            "Iteration 100:\n",
            "Got 2916 / 6464 correct (45.11) in train\n",
            "Got 473 / 1000 correct (47.30) in validation\n",
            "Goten new best val accuracy. Save new best model\n",
            "Iteration 200:\n",
            "Got 3385 / 6464 correct (52.37) in train\n",
            "Got 530 / 1000 correct (53.00) in validation\n",
            "Goten new best val accuracy. Save new best model\n",
            "Iteration 300:\n",
            "Got 3750 / 6464 correct (58.01) in train\n",
            "Got 565 / 1000 correct (56.50) in validation\n",
            "Goten new best val accuracy. Save new best model\n",
            "Iteration 400:\n",
            "Got 4044 / 6464 correct (62.56) in train\n",
            "Got 632 / 1000 correct (63.20) in validation\n",
            "Goten new best val accuracy. Save new best model\n",
            "Iteration 500:\n",
            "Got 3871 / 6464 correct (59.89) in train\n",
            "Got 628 / 1000 correct (62.80) in validation\n",
            "Iteration 600:\n",
            "Got 4209 / 6464 correct (65.11) in train\n",
            "Got 644 / 1000 correct (64.40) in validation\n",
            "Goten new best val accuracy. Save new best model\n",
            "Iteration 700:\n",
            "Got 4399 / 6464 correct (68.05) in train\n",
            "Got 664 / 1000 correct (66.40) in validation\n",
            "Goten new best val accuracy. Save new best model\n",
            "Got 4363 / 6464 correct (67.50) in train\n",
            "Got 666 / 1000 correct (66.60) in validation\n"
          ]
        }
      ]
    },
    {
      "cell_type": "code",
      "source": [
        "model, optimizer = createModel()\n",
        "model.cuda() # Adam requare change model to cuda before loading it from save\n",
        "\n",
        "checkpoint = torch.load('/content/drive/MyDrive/model.pt')\n",
        "\n",
        "model.load_state_dict(checkpoint['Model_state_dict'])\n",
        "optimizer.load_state_dict(checkpoint['Optimizer_state_dict'])\n",
        "num_epoch = checkpoint['Num_epoch']\n",
        "train_acc = checkpoint['Train_accs']\n",
        "val_acc = checkpoint['Val_accs']"
      ],
      "metadata": {
        "id": "NL6hs4EMXQ4u"
      },
      "execution_count": 77,
      "outputs": []
    },
    {
      "cell_type": "code",
      "source": [
        "continueTraining = {\n",
        "    'train_accs': train_acc,\n",
        "    'val_accs': val_acc,\n",
        "    'num_ep': num_epoch\n",
        "}\n",
        "train_acc, val_acc = train_model(model, optimizer, train_loader, validation_loader, 10, device, 100, continueTraining=continueTraining)"
      ],
      "metadata": {
        "colab": {
          "base_uri": "https://localhost:8080/"
        },
        "id": "vXJ01OMScJr6",
        "outputId": "84fb8af5-bfa6-4211-dada-e0cbd59a4ff5"
      },
      "execution_count": 78,
      "outputs": [
        {
          "output_type": "stream",
          "name": "stdout",
          "text": [
            "Continue training from 1 epoch\n",
            "Start 1 epoch\n",
            "Iteration 100:\n",
            "Got 4350 / 6464 correct (67.30) in train\n",
            "Got 677 / 1000 correct (67.70) in validation\n",
            "Goten new best val accuracy. Save new best model\n",
            "Iteration 200:\n",
            "Got 4513 / 6464 correct (69.82) in train\n",
            "Got 692 / 1000 correct (69.20) in validation\n",
            "Goten new best val accuracy. Save new best model\n",
            "Iteration 300:\n",
            "Got 4580 / 6464 correct (70.85) in train\n",
            "Got 693 / 1000 correct (69.30) in validation\n",
            "Goten new best val accuracy. Save new best model\n",
            "Iteration 400:\n",
            "Got 4668 / 6464 correct (72.22) in train\n",
            "Got 691 / 1000 correct (69.10) in validation\n",
            "Iteration 500:\n",
            "Got 4591 / 6464 correct (71.02) in train\n",
            "Got 693 / 1000 correct (69.30) in validation\n",
            "Iteration 600:\n",
            "Got 4760 / 6464 correct (73.64) in train\n",
            "Got 729 / 1000 correct (72.90) in validation\n",
            "Goten new best val accuracy. Save new best model\n",
            "Iteration 700:\n",
            "Got 4807 / 6464 correct (74.37) in train\n",
            "Got 728 / 1000 correct (72.80) in validation\n",
            "Got 4803 / 6464 correct (74.30) in train\n",
            "Got 734 / 1000 correct (73.40) in validation\n",
            "Start 2 epoch\n",
            "Iteration 100:\n",
            "Got 5001 / 6464 correct (77.37) in train\n",
            "Got 758 / 1000 correct (75.80) in validation\n",
            "Goten new best val accuracy. Save new best model\n",
            "Iteration 200:\n",
            "Got 4882 / 6464 correct (75.53) in train\n",
            "Got 737 / 1000 correct (73.70) in validation\n",
            "Iteration 300:\n",
            "Got 4913 / 6464 correct (76.01) in train\n",
            "Got 731 / 1000 correct (73.10) in validation\n",
            "Iteration 400:\n",
            "Got 4943 / 6464 correct (76.47) in train\n",
            "Got 740 / 1000 correct (74.00) in validation\n",
            "Iteration 500:\n",
            "Got 4874 / 6464 correct (75.40) in train\n",
            "Got 740 / 1000 correct (74.00) in validation\n",
            "Iteration 600:\n",
            "Got 4953 / 6464 correct (76.62) in train\n",
            "Got 740 / 1000 correct (74.00) in validation\n",
            "Iteration 700:\n",
            "Got 5081 / 6464 correct (78.60) in train\n",
            "Got 744 / 1000 correct (74.40) in validation\n",
            "Got 4947 / 6464 correct (76.53) in train\n",
            "Got 750 / 1000 correct (75.00) in validation\n",
            "Start 3 epoch\n",
            "Iteration 100:\n",
            "Got 5083 / 6464 correct (78.64) in train\n",
            "Got 755 / 1000 correct (75.50) in validation\n",
            "Iteration 200:\n",
            "Got 5185 / 6464 correct (80.21) in train\n",
            "Got 749 / 1000 correct (74.90) in validation\n",
            "Iteration 300:\n",
            "Got 5149 / 6464 correct (79.66) in train\n",
            "Got 768 / 1000 correct (76.80) in validation\n",
            "Goten new best val accuracy. Save new best model\n",
            "Iteration 400:\n",
            "Got 5145 / 6464 correct (79.59) in train\n",
            "Got 761 / 1000 correct (76.10) in validation\n",
            "Iteration 500:\n",
            "Got 5079 / 6464 correct (78.57) in train\n",
            "Got 746 / 1000 correct (74.60) in validation\n",
            "Iteration 600:\n",
            "Got 5274 / 6464 correct (81.59) in train\n",
            "Got 792 / 1000 correct (79.20) in validation\n",
            "Goten new best val accuracy. Save new best model\n",
            "Iteration 700:\n",
            "Got 5296 / 6464 correct (81.93) in train\n",
            "Got 784 / 1000 correct (78.40) in validation\n",
            "Got 5185 / 6464 correct (80.21) in train\n",
            "Got 773 / 1000 correct (77.30) in validation\n",
            "Start 4 epoch\n",
            "Iteration 100:\n",
            "Got 5368 / 6464 correct (83.04) in train\n",
            "Got 784 / 1000 correct (78.40) in validation\n",
            "Iteration 200:\n",
            "Got 5289 / 6464 correct (81.82) in train\n",
            "Got 793 / 1000 correct (79.30) in validation\n",
            "Goten new best val accuracy. Save new best model\n",
            "Iteration 300:\n",
            "Got 5347 / 6464 correct (82.72) in train\n",
            "Got 799 / 1000 correct (79.90) in validation\n",
            "Goten new best val accuracy. Save new best model\n",
            "Iteration 400:\n",
            "Got 5425 / 6464 correct (83.93) in train\n",
            "Got 793 / 1000 correct (79.30) in validation\n",
            "Iteration 500:\n",
            "Got 5456 / 6464 correct (84.41) in train\n",
            "Got 809 / 1000 correct (80.90) in validation\n",
            "Goten new best val accuracy. Save new best model\n",
            "Iteration 600:\n",
            "Got 5396 / 6464 correct (83.48) in train\n",
            "Got 793 / 1000 correct (79.30) in validation\n",
            "Iteration 700:\n",
            "Got 5357 / 6464 correct (82.87) in train\n",
            "Got 800 / 1000 correct (80.00) in validation\n",
            "Got 5496 / 6464 correct (85.02) in train\n",
            "Got 796 / 1000 correct (79.60) in validation\n",
            "Start 5 epoch\n",
            "Iteration 100:\n",
            "Got 5394 / 6464 correct (83.45) in train\n",
            "Got 792 / 1000 correct (79.20) in validation\n",
            "Iteration 200:\n",
            "Got 5505 / 6464 correct (85.16) in train\n",
            "Got 806 / 1000 correct (80.60) in validation\n",
            "Iteration 300:\n",
            "Got 5487 / 6464 correct (84.89) in train\n",
            "Got 808 / 1000 correct (80.80) in validation\n",
            "Iteration 400:\n",
            "Got 5506 / 6464 correct (85.18) in train\n",
            "Got 800 / 1000 correct (80.00) in validation\n",
            "Iteration 500:\n",
            "Got 5610 / 6464 correct (86.79) in train\n",
            "Got 821 / 1000 correct (82.10) in validation\n",
            "Goten new best val accuracy. Save new best model\n",
            "Iteration 600:\n",
            "Got 5445 / 6464 correct (84.24) in train\n",
            "Got 804 / 1000 correct (80.40) in validation\n",
            "Iteration 700:\n",
            "Got 5468 / 6464 correct (84.59) in train\n",
            "Got 812 / 1000 correct (81.20) in validation\n",
            "Got 5454 / 6464 correct (84.38) in train\n",
            "Got 796 / 1000 correct (79.60) in validation\n",
            "Start 6 epoch\n",
            "Iteration 100:\n",
            "Got 5600 / 6464 correct (86.63) in train\n",
            "Got 823 / 1000 correct (82.30) in validation\n",
            "Goten new best val accuracy. Save new best model\n",
            "Iteration 200:\n",
            "Got 5588 / 6464 correct (86.45) in train\n",
            "Got 807 / 1000 correct (80.70) in validation\n",
            "Iteration 300:\n",
            "Got 5593 / 6464 correct (86.53) in train\n",
            "Got 803 / 1000 correct (80.30) in validation\n",
            "Iteration 400:\n",
            "Got 5547 / 6464 correct (85.81) in train\n",
            "Got 806 / 1000 correct (80.60) in validation\n",
            "Iteration 500:\n",
            "Got 5708 / 6464 correct (88.30) in train\n",
            "Got 821 / 1000 correct (82.10) in validation\n",
            "Iteration 600:\n",
            "Got 5619 / 6464 correct (86.93) in train\n",
            "Got 833 / 1000 correct (83.30) in validation\n",
            "Goten new best val accuracy. Save new best model\n",
            "Iteration 700:\n",
            "Got 5669 / 6464 correct (87.70) in train\n",
            "Got 823 / 1000 correct (82.30) in validation\n",
            "Got 5653 / 6464 correct (87.45) in train\n",
            "Got 810 / 1000 correct (81.00) in validation\n",
            "Start 7 epoch\n",
            "Iteration 100:\n",
            "Got 5734 / 6464 correct (88.71) in train\n",
            "Got 823 / 1000 correct (82.30) in validation\n",
            "Iteration 200:\n",
            "Got 5762 / 6464 correct (89.14) in train\n",
            "Got 832 / 1000 correct (83.20) in validation\n",
            "Iteration 300:\n",
            "Got 5552 / 6464 correct (85.89) in train\n",
            "Got 791 / 1000 correct (79.10) in validation\n",
            "Iteration 400:\n",
            "Got 5725 / 6464 correct (88.57) in train\n",
            "Got 825 / 1000 correct (82.50) in validation\n",
            "Iteration 500:\n",
            "Got 5583 / 6464 correct (86.37) in train\n",
            "Got 785 / 1000 correct (78.50) in validation\n",
            "Iteration 600:\n",
            "Got 5725 / 6464 correct (88.57) in train\n",
            "Got 819 / 1000 correct (81.90) in validation\n",
            "Iteration 700:\n",
            "Got 5625 / 6464 correct (87.02) in train\n",
            "Got 809 / 1000 correct (80.90) in validation\n",
            "Got 5800 / 6464 correct (89.73) in train\n",
            "Got 827 / 1000 correct (82.70) in validation\n",
            "Start 8 epoch\n",
            "Iteration 100:\n",
            "Got 5775 / 6464 correct (89.34) in train\n",
            "Got 824 / 1000 correct (82.40) in validation\n",
            "Iteration 200:\n",
            "Got 5817 / 6464 correct (89.99) in train\n",
            "Got 823 / 1000 correct (82.30) in validation\n",
            "Iteration 300:\n",
            "Got 5706 / 6464 correct (88.27) in train\n",
            "Got 811 / 1000 correct (81.10) in validation\n",
            "Iteration 400:\n",
            "Got 5856 / 6464 correct (90.59) in train\n",
            "Got 822 / 1000 correct (82.20) in validation\n",
            "Iteration 500:\n",
            "Got 5812 / 6464 correct (89.91) in train\n",
            "Got 834 / 1000 correct (83.40) in validation\n",
            "Goten new best val accuracy. Save new best model\n",
            "Iteration 600:\n",
            "Got 5826 / 6464 correct (90.13) in train\n",
            "Got 804 / 1000 correct (80.40) in validation\n",
            "Iteration 700:\n",
            "Got 5781 / 6464 correct (89.43) in train\n",
            "Got 823 / 1000 correct (82.30) in validation\n",
            "Got 5953 / 6464 correct (92.09) in train\n",
            "Got 830 / 1000 correct (83.00) in validation\n",
            "Start 9 epoch\n",
            "Iteration 100:\n",
            "Got 5767 / 6464 correct (89.22) in train\n",
            "Got 824 / 1000 correct (82.40) in validation\n",
            "Iteration 200:\n",
            "Got 5771 / 6464 correct (89.28) in train\n",
            "Got 825 / 1000 correct (82.50) in validation\n",
            "Iteration 300:\n",
            "Got 5988 / 6464 correct (92.64) in train\n",
            "Got 833 / 1000 correct (83.30) in validation\n",
            "Iteration 400:\n",
            "Got 6040 / 6464 correct (93.44) in train\n",
            "Got 843 / 1000 correct (84.30) in validation\n",
            "Goten new best val accuracy. Save new best model\n",
            "Iteration 500:\n",
            "Got 5962 / 6464 correct (92.23) in train\n",
            "Got 835 / 1000 correct (83.50) in validation\n",
            "Iteration 600:\n",
            "Got 5973 / 6464 correct (92.40) in train\n",
            "Got 849 / 1000 correct (84.90) in validation\n",
            "Goten new best val accuracy. Save new best model\n",
            "Iteration 700:\n",
            "Got 5963 / 6464 correct (92.25) in train\n",
            "Got 839 / 1000 correct (83.90) in validation\n",
            "Got 5874 / 6464 correct (90.87) in train\n",
            "Got 821 / 1000 correct (82.10) in validation\n"
          ]
        }
      ]
    },
    {
      "cell_type": "code",
      "source": [
        "plt.plot(range(len(train_acc)), train_acc, range(len(val_acc)), val_acc)"
      ],
      "metadata": {
        "colab": {
          "base_uri": "https://localhost:8080/",
          "height": 299
        },
        "id": "3mSHTzJegiXM",
        "outputId": "c18a1e35-bf3c-41ac-bc5b-1bd5b51c73c3"
      },
      "execution_count": 79,
      "outputs": [
        {
          "output_type": "execute_result",
          "data": {
            "text/plain": [
              "[<matplotlib.lines.Line2D at 0x7fcc2fec6550>,\n",
              " <matplotlib.lines.Line2D at 0x7fcc2fec6e50>]"
            ]
          },
          "metadata": {},
          "execution_count": 79
        },
        {
          "output_type": "display_data",
          "data": {
            "image/png": "[encoded data removed]",
            "text/plain": [
              "<Figure size 432x288 with 1 Axes>"
            ]
          },
          "metadata": {
            "needs_background": "light"
          }
        }
      ]
    },
    {
      "cell_type": "code",
      "source": [
        "check_accuracy(model, test_loader, 'test', device)"
      ],
      "metadata": {
        "colab": {
          "base_uri": "https://localhost:8080/"
        },
        "id": "SzTOD-KfjQ60",
        "outputId": "26821fa7-515e-45da-bfc9-482398f53939"
      },
      "execution_count": 80,
      "outputs": [
        {
          "output_type": "stream",
          "name": "stdout",
          "text": [
            "Got 8143 / 10000 correct (81.43) in test\n"
          ]
        },
        {
          "output_type": "execute_result",
          "data": {
            "text/plain": [
              "0.8143"
            ]
          },
          "metadata": {},
          "execution_count": 80
        }
      ]
    },
    {
      "cell_type": "code",
      "source": [
        "model, optimizer = createModel()\n",
        "model.cuda() # Adam requare change model to cuda before loading it from save\n",
        "\n",
        "checkpoint = torch.load('/content/drive/MyDrive/best_model.pt')\n",
        "\n",
        "model.load_state_dict(checkpoint['Model_state_dict'])\n",
        "optimizer.load_state_dict(checkpoint['Optimizer_state_dict'])\n",
        "\n",
        "check_accuracy(model, test_loader, 'test', device)"
      ],
      "metadata": {
        "colab": {
          "base_uri": "https://localhost:8080/"
        },
        "id": "_Fvr1Ac8nIR0",
        "outputId": "3fddd396-5854-4d8e-9752-56adac062546"
      },
      "execution_count": 81,
      "outputs": [
        {
          "output_type": "stream",
          "name": "stdout",
          "text": [
            "Got 8180 / 10000 correct (81.80) in test\n"
          ]
        },
        {
          "output_type": "execute_result",
          "data": {
            "text/plain": [
              "0.818"
            ]
          },
          "metadata": {},
          "execution_count": 81
        }
      ]
    }
  ]
}