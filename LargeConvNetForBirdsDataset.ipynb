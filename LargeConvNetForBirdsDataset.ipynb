{
  "nbformat": 4,
  "nbformat_minor": 0,
  "metadata": {
    "colab": {
      "name": "LargeConvNetForBirdsDataset.ipynb",
      "provenance": [],
      "collapsed_sections": []
    },
    "kernelspec": {
      "name": "python3",
      "display_name": "Python 3"
    },
    "language_info": {
      "name": "python"
    },
    "accelerator": "GPU"
  },
  "cells": [
    {
      "cell_type": "code",
      "execution_count": 10,
      "metadata": {
        "colab": {
          "base_uri": "https://localhost:8080/"
        },
        "id": "XJyLQfkXKoOr",
        "outputId": "8cede3ee-2122-4ef2-993f-12dc169d27fc"
      },
      "outputs": [
        {
          "output_type": "stream",
          "name": "stdout",
          "text": [
            "Drive already mounted at /content/drive; to attempt to forcibly remount, call drive.mount(\"/content/drive\", force_remount=True).\n"
          ]
        }
      ],
      "source": [
        "from google.colab import drive\n",
        "drive.mount('/content/drive')"
      ]
    },
    {
      "cell_type": "code",
      "source": [
        "import os\n",
        "import zipfile\n",
        "import time\n",
        "from PIL import Image"
      ],
      "metadata": {
        "id": "89D8AsCyn6eV"
      },
      "execution_count": 11,
      "outputs": []
    },
    {
      "cell_type": "code",
      "source": [
        "pathToZip = '/content/drive/MyDrive/DataSets/Birds/birds.zip'\n",
        "\n",
        "z = zipfile.ZipFile(pathToZip, 'r')\n",
        "z.extractall('/content/sample_data/')"
      ],
      "metadata": {
        "id": "DB4wr-CcpC73"
      },
      "execution_count": 12,
      "outputs": []
    },
    {
      "cell_type": "code",
      "source": [
        "import torch\n",
        "import torch.nn as nn\n",
        "import torch.optim as optim\n",
        "from torch.utils.data import DataLoader\n",
        "from torch.utils.data import sampler\n",
        "\n",
        "import torchvision.datasets as dset\n",
        "import torchvision.transforms as T\n",
        "\n",
        "import matplotlib.pyplot as plt\n",
        "\n",
        "import os\n",
        "\n",
        "USE_GPU = True\n",
        "dtype = torch.float32 # We will be using float throughout this tutorial.\n",
        "\n",
        "if USE_GPU and torch.cuda.is_available():\n",
        "  device = torch.device('cuda')\n",
        "else:\n",
        "  device = torch.device('cpu')\n",
        "\n",
        "print(device)"
      ],
      "metadata": {
        "colab": {
          "base_uri": "https://localhost:8080/"
        },
        "id": "q9CFcdmwK24K",
        "outputId": "6d7bc325-b965-4805-bd4f-ba38f7661b83"
      },
      "execution_count": 13,
      "outputs": [
        {
          "output_type": "stream",
          "name": "stdout",
          "text": [
            "cuda\n"
          ]
        }
      ]
    },
    {
      "cell_type": "code",
      "source": [
        "# Define transforms for dataset\n",
        "\n",
        "trainTransforms = T.Compose([\n",
        "    T.ToTensor(),\n",
        "    T.Normalize(mean=(0.4914, 0.4822, 0.4465), std=(0.2023, 0.1994, 0.2010)),\n",
        "    T.RandomHorizontalFlip(),\n",
        "    T.RandomApply([T.RandomResizedCrop(224, scale=(0.8, 1.0))], p=0.3)\n",
        "])\n",
        "\n",
        "validTransforms = T.Compose([\n",
        "    T.ToTensor(),\n",
        "    T.Normalize(mean=(0.4914, 0.4822, 0.4465), std=(0.2023, 0.1994, 0.2010))\n",
        "])\n",
        "\n",
        "testTransforms = T.Compose([\n",
        "    T.ToTensor(),\n",
        "    T.Normalize(mean=(0.4914, 0.4822, 0.4465), std=(0.2023, 0.1994, 0.2010))\n",
        "])"
      ],
      "metadata": {
        "id": "om2Oh_yiNGLS"
      },
      "execution_count": 69,
      "outputs": []
    },
    {
      "cell_type": "code",
      "source": [
        "# Loading dataset\n",
        "rootPath = '/content/sample_data/'#'/content/drive/MyDrive/DataSets/Birds'\n",
        "trainPath = os.path.join(rootPath, 'train')\n",
        "testPath = os.path.join(rootPath, 'test')\n",
        "validPath = os.path.join(rootPath, 'valid')\n",
        "\n",
        "if not (os.path.exists(trainPath) and os.path.exists(testPath) and os.path.exists(validPath)):\n",
        "  print('Could not find dataset')\n",
        "\n",
        "trainSet = dset.ImageFolder(trainPath, trainTransforms)\n",
        "validSet = dset.ImageFolder(validPath, validTransforms)\n",
        "testSet = dset.ImageFolder(testPath, testTransforms)"
      ],
      "metadata": {
        "id": "sKI3UMUILln9"
      },
      "execution_count": 70,
      "outputs": []
    },
    {
      "cell_type": "code",
      "source": [
        "x, y = trainSet[40000]\n",
        "\n",
        "className = list(trainSet.class_to_idx.keys())[list(trainSet.class_to_idx.values()).index(y)] # Get name of class\n",
        "plt.title(className)\n",
        "plt.imshow(x.permute(1, 2, 0))"
      ],
      "metadata": {
        "colab": {
          "base_uri": "https://localhost:8080/",
          "height": 314
        },
        "id": "sGwoehJvLGMR",
        "outputId": "9a989a1c-f5c4-4863-d496-e7ef9de7a8e6"
      },
      "execution_count": 72,
      "outputs": [
        {
          "output_type": "stream",
          "name": "stderr",
          "text": [
            "Clipping input data to the valid range for imshow with RGB data ([0..1] for floats or [0..255] for integers).\n"
          ]
        },
        {
          "output_type": "execute_result",
          "data": {
            "text/plain": [
              "<matplotlib.image.AxesImage at 0x7ff05c856c90>"
            ]
          },
          "metadata": {},
          "execution_count": 72
        },
        {
          "output_type": "display_data",
          "data": {
            "image/png": "[encoded data removed]",
            "text/plain": [
              "<Figure size 432x288 with 1 Axes>"
            ]
          },
          "metadata": {
            "needs_background": "light"
          }
        }
      ]
    },
    {
      "cell_type": "code",
      "source": [
        "trainLoader = DataLoader(trainSet, batch_size=64, sampler=sampler.SubsetRandomSampler(range(0, trainSet.__len__())))\n",
        "validLoader = DataLoader(validSet, batch_size=64, sampler=sampler.SubsetRandomSampler(range(0, validSet.__len__())))\n",
        "testLoader = DataLoader(testSet, batch_size=64)"
      ],
      "metadata": {
        "id": "5u4UTuDyUYLO"
      },
      "execution_count": 73,
      "outputs": []
    },
    {
      "cell_type": "code",
      "source": [
        "def flatten(X):\n",
        "  \"\"\"\n",
        "  Flatten an image to vector\n",
        "  \"\"\"\n",
        "  N = X.shape[0] # Num in batch\n",
        "  return X.view(N, -1)\n",
        "\n",
        "class Flatten(nn.Module):\n",
        "  def forward(self, X):\n",
        "    return flatten(X)"
      ],
      "metadata": {
        "id": "R6Wlch-zOrxw"
      },
      "execution_count": 74,
      "outputs": []
    },
    {
      "cell_type": "code",
      "source": [
        "def check_accuracy(model, dataLoader, typeOfCheck, device=torch.device('cpu')):\n",
        "  \"\"\"\n",
        "  Checking accuracy on given dataSet in dataLoader\n",
        "  typeOfCheck - train, validation or test\n",
        "  \"\"\"\n",
        "  model = model.to(device=device)\n",
        "\n",
        "  typeOfCheck = str.lower(typeOfCheck)\n",
        "\n",
        "  model.eval()\n",
        "\n",
        "  num_samples = 0\n",
        "  num_correct = 0\n",
        "\n",
        "  with torch.no_grad():\n",
        "    for i, (x, y) in enumerate(dataLoader):\n",
        "      x = x.to(device=device, dtype=torch.float32)\n",
        "      y = y.to(device=device, dtype=torch.long)\n",
        "\n",
        "      scores = model(x)\n",
        "      _, preds = scores.max(1)\n",
        "\n",
        "      num_samples += preds.shape[0]\n",
        "      num_correct += (preds == y).sum()\n",
        "\n",
        "      if typeOfCheck == 'train' and i == 100: # Чтобы проверяться не на всём огромном train сете (16 * 64 = 1024 как и у validation)\n",
        "        break\n",
        "\n",
        "    acc = float(num_correct) / num_samples\n",
        "    print('Got %d / %d correct (%.2f) in %s'% (num_correct, num_samples, 100 * acc, typeOfCheck))\n",
        "    return acc"
      ],
      "metadata": {
        "id": "RDzoeyjHUAn7"
      },
      "execution_count": 75,
      "outputs": []
    },
    {
      "cell_type": "code",
      "source": [
        "def train_model(model, optimizer, trainLoader, validationLoader, num_epoch=1, device=torch.device('cpu'), printAndSaveEvery=100, continueTraining=None, savePath = '/content/drive/MyDrive/'):\n",
        "  \"\"\"\n",
        "  continueTraining is a dictionary including:\n",
        "  1) train_accs - list of training accuracies\n",
        "  2) val_accs - list of validation accuracies\n",
        "  3) num_ep - number of epoch from which the model will continue training\n",
        "  \"\"\"\n",
        "  import torch.nn.functional as F\n",
        "  from os.path import join\n",
        "\n",
        "  if continueTraining is None:\n",
        "    print(\"Starting new training\")\n",
        "    best_acc = 0\n",
        "    train_accuracies = []\n",
        "    val_accuracies = []\n",
        "    start_ep = 0\n",
        "  else:\n",
        "    train_accuracies = continueTraining['train_accs']\n",
        "    val_accuracies = continueTraining['val_accs']\n",
        "    start_ep = continueTraining['num_ep']\n",
        "    best_acc = val_accuracies[-1]\n",
        "    print(\"Continue training from \" + str(start_ep) + \" epoch\")\n",
        "\n",
        "  model = model.to(device=device)\n",
        "\n",
        "  for e in range(start_ep, num_epoch):\n",
        "    print(\"Start \" + str(e) + \" epoch\")\n",
        "    for t, (x, y) in enumerate(trainLoader):\n",
        "\n",
        "      model.train()\n",
        "      x = x.to(device=device, dtype=torch.float32)\n",
        "      y = y.to(device=device, dtype=torch.long)\n",
        "\n",
        "      scores = model(x)\n",
        "      loss = F.cross_entropy(scores, y)\n",
        "\n",
        "      optimizer.zero_grad()\n",
        "\n",
        "      loss.backward()\n",
        "\n",
        "      optimizer.step()\n",
        "\n",
        "      if t % printAndSaveEvery == 0 and t != 0:\n",
        "        print(\"Iteration \" + str(t) + \":\")\n",
        "        train_acc = check_accuracy(model, trainLoader, 'train', device)\n",
        "        val_acc = check_accuracy(model, validationLoader, 'validation', device)\n",
        "\n",
        "        train_accuracies.append(train_acc)\n",
        "        val_accuracies.append(val_acc)\n",
        "\n",
        "        if best_acc < val_acc:\n",
        "          print(\"Goten new best val accuracy. Save new best model\")\n",
        "          best_acc = val_acc\n",
        "          torch.save({\n",
        "              'Model_state_dict': model.state_dict(),\n",
        "              'Optimizer_state_dict': optimizer.state_dict(),\n",
        "              'Num_epoch': e,\n",
        "              'Train_accs': train_accuracies,\n",
        "              'Val_accs': val_accuracies\n",
        "          }, join(savePath, 'best_model.pt'))\n",
        "          \n",
        "\n",
        "    train_acc = check_accuracy(model, trainLoader, 'train', device)\n",
        "    val_acc = check_accuracy(model, validationLoader, 'validation', device)\n",
        "\n",
        "    train_accuracies.append(train_acc)\n",
        "    val_accuracies.append(val_acc)\n",
        "\n",
        "    torch.save({\n",
        "        'Model_state_dict': model.state_dict(),\n",
        "        'Optimizer_state_dict': optimizer.state_dict(),\n",
        "        'Num_epoch': e + 1,\n",
        "        'Train_accs': train_accuracies,\n",
        "        'Val_accs': val_accuracies\n",
        "    }, join(savePath, 'best_model.pt'))\n",
        "\n",
        "    if best_acc < val_acc:\n",
        "          print(\"Goten new best val accuracy. Save new best model\")\n",
        "          best_acc = val_acc\n",
        "          torch.save({\n",
        "              'Model_state_dict': model.state_dict(),\n",
        "              'Optimizer_state_dict': optimizer.state_dict(),\n",
        "              'Num_epoch': e,\n",
        "              'Train_accs': train_accuracies,\n",
        "              'Val_accs': val_accuracies\n",
        "          }, join(savePath, 'best_model.pt'))\n",
        "\n",
        "  return(train_accuracies, val_accuracies)"
      ],
      "metadata": {
        "id": "-MssYybATygq"
      },
      "execution_count": 76,
      "outputs": []
    },
    {
      "cell_type": "code",
      "source": [
        "def createModel():\n",
        "  model = None\n",
        "  optimizer = None\n",
        "\n",
        "  input_channels = 3\n",
        "  channel_1 = 64\n",
        "  channel_2 = 128\n",
        "  channel_3 = 256\n",
        "  channel_4 = 512\n",
        "  dense_1 = 1024\n",
        "  dense_2 = 512\n",
        "  num_classes = 325\n",
        "\n",
        "  learning_rate = 1e-4\n",
        "  weight_decay = 1e-5\n",
        "\n",
        "  model = nn.Sequential(\n",
        "      \n",
        "      nn.Conv2d(in_channels=input_channels, out_channels=channel_1, kernel_size=5, stride=1, padding=2), # 224 x 224 x 128\n",
        "      nn.BatchNorm2d(num_features=channel_1),\n",
        "      nn.ReLU(),\n",
        "\n",
        "      # nn.Conv2d(channel_1, channel_1, 5, 1, 2), # 224 x 224 x 64\n",
        "      # nn.BatchNorm2d(num_features=channel_2),\n",
        "      # nn.ReLU(),\n",
        "\n",
        "      nn.MaxPool2d(kernel_size=2, stride=2), # 112 x 112 x 64\n",
        "\n",
        "      nn.Conv2d(channel_1, channel_2, kernel_size=3, stride=1, padding=1), # 112 x 112 x 128\n",
        "      nn.BatchNorm2d(num_features=channel_2),\n",
        "      nn.ReLU(),\n",
        "\n",
        "      # nn.Conv2d(channel_2, channel_2, kernel_size=3, stride=1, padding=1), # 112 x 112 x 128\n",
        "      # nn.BatchNorm2d(num_features=channel_4),\n",
        "      # nn.ReLU(),\n",
        "\n",
        "      nn.MaxPool2d(kernel_size=2, stride=2), # 56 x 56 x 128\n",
        "\n",
        "      nn.Conv2d(channel_2, channel_3, kernel_size=3, stride=1, padding=1), # 56 x 56 x 256\n",
        "      nn.BatchNorm2d(num_features=channel_3),\n",
        "      nn.ReLU(),\n",
        "      \n",
        "      nn.MaxPool2d(kernel_size=2, stride=2), # 28 x 28 x 256\n",
        "\n",
        "      nn.Conv2d(channel_3, channel_3, kernel_size=3, stride=1, padding=1), # 28 x 28 x 256\n",
        "      nn.BatchNorm2d(num_features=channel_3),\n",
        "      nn.ReLU(),\n",
        "      \n",
        "      nn.MaxPool2d(kernel_size=2, stride=2), # 14 x 14 x 256\n",
        "      \n",
        "      nn.Conv2d(channel_3, channel_3, kernel_size=3, stride=1, padding=1), # 14 x 14 x 256\n",
        "      nn.BatchNorm2d(num_features=channel_3),\n",
        "      nn.ReLU(),\n",
        "      \n",
        "      nn.MaxPool2d(kernel_size=2, stride=2), # 7 x 7 x 256\n",
        "\n",
        "      Flatten(),\n",
        "      nn.Linear(7 * 7 * 256, dense_1),\n",
        "      nn.ReLU(),\n",
        "      nn.Linear(dense_1, dense_2),\n",
        "      nn.ReLU(),\n",
        "      nn.Linear(dense_2, num_classes)\n",
        "  )\n",
        "\n",
        "  optimizer = optim.Adam(model.parameters(), lr=learning_rate, weight_decay=weight_decay)\n",
        "\n",
        "  return (model, optimizer)"
      ],
      "metadata": {
        "id": "b3LdyM-XUC8A"
      },
      "execution_count": 77,
      "outputs": []
    },
    {
      "cell_type": "code",
      "source": [
        "model, optimizer = createModel()\n",
        "train_acc, val_acc = train_model(model, optimizer, trainLoader, validLoader, 3, device, 100, savePath='/content/drive/MyDrive/BirdsModels')"
      ],
      "metadata": {
        "colab": {
          "base_uri": "https://localhost:8080/"
        },
        "id": "88aL9Mx5USFl",
        "outputId": "0d737dc2-0a68-4931-91bf-54a6dfa575c0"
      },
      "execution_count": null,
      "outputs": [
        {
          "output_type": "stream",
          "name": "stdout",
          "text": [
            "Starting new training\n",
            "Start 0 epoch\n",
            "Iteration 100:\n",
            "Got 148 / 6464 correct (2.29) in train\n",
            "Got 40 / 1625 correct (2.46) in validation\n",
            "Goten new best val accuracy. Save new best model\n",
            "Iteration 200:\n",
            "Got 521 / 6464 correct (8.06) in train\n",
            "Got 135 / 1625 correct (8.31) in validation\n",
            "Goten new best val accuracy. Save new best model\n",
            "Iteration 300:\n",
            "Got 826 / 6464 correct (12.78) in train\n",
            "Got 225 / 1625 correct (13.85) in validation\n",
            "Goten new best val accuracy. Save new best model\n",
            "Iteration 400:\n",
            "Got 1221 / 6464 correct (18.89) in train\n",
            "Got 362 / 1625 correct (22.28) in validation\n",
            "Goten new best val accuracy. Save new best model\n",
            "Iteration 500:\n",
            "Got 1864 / 6464 correct (28.84) in train\n",
            "Got 486 / 1625 correct (29.91) in validation\n",
            "Goten new best val accuracy. Save new best model\n",
            "Iteration 600:\n",
            "Got 2020 / 6464 correct (31.25) in train\n",
            "Got 562 / 1625 correct (34.58) in validation\n",
            "Goten new best val accuracy. Save new best model\n",
            "Iteration 700:\n",
            "Got 2204 / 6464 correct (34.10) in train\n",
            "Got 608 / 1625 correct (37.42) in validation\n",
            "Goten new best val accuracy. Save new best model\n",
            "Got 2339 / 6464 correct (36.19) in train\n",
            "Got 643 / 1625 correct (39.57) in validation\n",
            "Start 1 epoch\n",
            "Iteration 100:\n",
            "Got 2730 / 6464 correct (42.23) in train\n",
            "Got 766 / 1625 correct (47.14) in validation\n",
            "Goten new best val accuracy. Save new best model\n",
            "Iteration 200:\n",
            "Got 2958 / 6464 correct (45.76) in train\n",
            "Got 848 / 1625 correct (52.18) in validation\n",
            "Goten new best val accuracy. Save new best model\n",
            "Iteration 300:\n",
            "Got 3075 / 6464 correct (47.57) in train\n",
            "Got 863 / 1625 correct (53.11) in validation\n",
            "Goten new best val accuracy. Save new best model\n",
            "Iteration 400:\n",
            "Got 3362 / 6464 correct (52.01) in train\n",
            "Got 937 / 1625 correct (57.66) in validation\n",
            "Goten new best val accuracy. Save new best model\n",
            "Iteration 500:\n",
            "Got 3111 / 6464 correct (48.13) in train\n",
            "Got 864 / 1625 correct (53.17) in validation\n",
            "Iteration 600:\n",
            "Got 3505 / 6464 correct (54.22) in train\n",
            "Got 934 / 1625 correct (57.48) in validation\n",
            "Iteration 700:\n",
            "Got 3583 / 6464 correct (55.43) in train\n",
            "Got 1008 / 1625 correct (62.03) in validation\n",
            "Goten new best val accuracy. Save new best model\n",
            "Got 3669 / 6464 correct (56.76) in train\n",
            "Got 988 / 1625 correct (60.80) in validation\n",
            "Start 2 epoch\n",
            "Iteration 100:\n",
            "Got 3641 / 6464 correct (56.33) in train\n",
            "Got 991 / 1625 correct (60.98) in validation\n",
            "Iteration 200:\n",
            "Got 3634 / 6464 correct (56.22) in train\n",
            "Got 998 / 1625 correct (61.42) in validation\n",
            "Iteration 300:\n",
            "Got 3917 / 6464 correct (60.60) in train\n",
            "Got 1092 / 1625 correct (67.20) in validation\n",
            "Goten new best val accuracy. Save new best model\n",
            "Iteration 400:\n",
            "Got 3750 / 6464 correct (58.01) in train\n",
            "Got 1022 / 1625 correct (62.89) in validation\n",
            "Iteration 500:\n",
            "Got 4084 / 6464 correct (63.18) in train\n",
            "Got 1107 / 1625 correct (68.12) in validation\n",
            "Goten new best val accuracy. Save new best model\n",
            "Iteration 600:\n",
            "Got 3947 / 6464 correct (61.06) in train\n",
            "Got 1084 / 1625 correct (66.71) in validation\n",
            "Iteration 700:\n",
            "Got 3654 / 6464 correct (56.53) in train\n",
            "Got 1036 / 1625 correct (63.75) in validation\n",
            "Got 4268 / 6464 correct (66.03) in train\n",
            "Got 1147 / 1625 correct (70.58) in validation\n"
          ]
        }
      ]
    },
    {
      "cell_type": "code",
      "source": [
        "plt.plot(range(len(train_acc)), train_acc, range(len(val_acc)), val_acc)\n",
        "plt.legend(['train', 'validation'])"
      ],
      "metadata": {
        "id": "hX90Lo8ZY0D4",
        "colab": {
          "base_uri": "https://localhost:8080/",
          "height": 282
        },
        "outputId": "38581fcd-a8d5-41d2-c698-8859200764da"
      },
      "execution_count": null,
      "outputs": [
        {
          "output_type": "execute_result",
          "data": {
            "text/plain": [
              "<matplotlib.legend.Legend at 0x7f5a71dc80d0>"
            ]
          },
          "metadata": {},
          "execution_count": 24
        },
        {
          "output_type": "display_data",
          "data": {
            "image/png": "[encoded data removed]",
            "text/plain": [
              "<Figure size 432x288 with 1 Axes>"
            ]
          },
          "metadata": {
            "needs_background": "light"
          }
        }
      ]
    },
    {
      "cell_type": "code",
      "source": [
        "model, optimizer = createModel()\n",
        "model.cuda() # Adam requare change model to cuda before loading it from save\n",
        "\n",
        "checkpoint = torch.load('/content/drive/MyDrive/BirdsModels/best_model.pt')\n",
        "\n",
        "model.load_state_dict(checkpoint['Model_state_dict'])\n",
        "optimizer.load_state_dict(checkpoint['Optimizer_state_dict'])\n",
        "\n",
        "contTrain = {\n",
        "    'train_accs': checkpoint['Train_accs'],\n",
        "    'val_accs': checkpoint['Val_accs'],\n",
        "    'num_ep': checkpoint['Num_epoch']\n",
        "}\n",
        "train_acc, val_acc = train_model(model, optimizer, trainLoader, validLoader, 10, device, 100, \n",
        "                                 savePath='/content/drive/MyDrive/BirdsModels', continueTraining=contTrain)"
      ],
      "metadata": {
        "colab": {
          "base_uri": "https://localhost:8080/"
        },
        "id": "cjjvY3qlXxa8",
        "outputId": "e25ec8f7-4453-4818-8ace-c0a8c851b99d"
      },
      "execution_count": null,
      "outputs": [
        {
          "output_type": "stream",
          "name": "stdout",
          "text": [
            "Continue training from 3 epoch\n",
            "Start 3 epoch\n",
            "Iteration 100:\n",
            "Got 4132 / 6464 correct (63.92) in train\n",
            "Got 1129 / 1625 correct (69.48) in validation\n",
            "Iteration 200:\n",
            "Got 4403 / 6464 correct (68.12) in train\n",
            "Got 1155 / 1625 correct (71.08) in validation\n",
            "Goten new best val accuracy. Save new best model\n",
            "Iteration 300:\n",
            "Got 4264 / 6464 correct (65.97) in train\n",
            "Got 1127 / 1625 correct (69.35) in validation\n",
            "Iteration 400:\n",
            "Got 4299 / 6464 correct (66.51) in train\n",
            "Got 1169 / 1625 correct (71.94) in validation\n",
            "Goten new best val accuracy. Save new best model\n",
            "Iteration 500:\n",
            "Got 4491 / 6464 correct (69.48) in train\n",
            "Got 1180 / 1625 correct (72.62) in validation\n",
            "Goten new best val accuracy. Save new best model\n",
            "Iteration 600:\n",
            "Got 4428 / 6464 correct (68.50) in train\n",
            "Got 1186 / 1625 correct (72.98) in validation\n",
            "Goten new best val accuracy. Save new best model\n",
            "Iteration 700:\n",
            "Got 4651 / 6464 correct (71.95) in train\n",
            "Got 1195 / 1625 correct (73.54) in validation\n",
            "Goten new best val accuracy. Save new best model\n",
            "Got 4701 / 6464 correct (72.73) in train\n",
            "Got 1241 / 1625 correct (76.37) in validation\n",
            "Start 4 epoch\n",
            "Iteration 100:\n",
            "Got 4692 / 6464 correct (72.59) in train\n",
            "Got 1248 / 1625 correct (76.80) in validation\n",
            "Goten new best val accuracy. Save new best model\n",
            "Iteration 200:\n",
            "Got 4586 / 6464 correct (70.95) in train\n",
            "Got 1212 / 1625 correct (74.58) in validation\n",
            "Iteration 300:\n",
            "Got 4538 / 6464 correct (70.20) in train\n",
            "Got 1223 / 1625 correct (75.26) in validation\n",
            "Iteration 400:\n",
            "Got 4820 / 6464 correct (74.57) in train\n",
            "Got 1254 / 1625 correct (77.17) in validation\n",
            "Goten new best val accuracy. Save new best model\n",
            "Iteration 500:\n",
            "Got 4728 / 6464 correct (73.14) in train\n",
            "Got 1250 / 1625 correct (76.92) in validation\n",
            "Iteration 600:\n",
            "Got 4804 / 6464 correct (74.32) in train\n",
            "Got 1249 / 1625 correct (76.86) in validation\n",
            "Iteration 700:\n",
            "Got 4701 / 6464 correct (72.73) in train\n",
            "Got 1226 / 1625 correct (75.45) in validation\n",
            "Got 4801 / 6464 correct (74.27) in train\n",
            "Got 1235 / 1625 correct (76.00) in validation\n",
            "Start 5 epoch\n",
            "Iteration 100:\n",
            "Got 4783 / 6464 correct (73.99) in train\n",
            "Got 1243 / 1625 correct (76.49) in validation\n",
            "Iteration 200:\n",
            "Got 4861 / 6464 correct (75.20) in train\n",
            "Got 1272 / 1625 correct (78.28) in validation\n",
            "Goten new best val accuracy. Save new best model\n",
            "Iteration 300:\n",
            "Got 4765 / 6464 correct (73.72) in train\n",
            "Got 1212 / 1625 correct (74.58) in validation\n",
            "Iteration 400:\n",
            "Got 4967 / 6464 correct (76.84) in train\n",
            "Got 1261 / 1625 correct (77.60) in validation\n",
            "Iteration 500:\n",
            "Got 4981 / 6464 correct (77.06) in train\n",
            "Got 1269 / 1625 correct (78.09) in validation\n",
            "Iteration 600:\n",
            "Got 4798 / 6464 correct (74.23) in train\n",
            "Got 1239 / 1625 correct (76.25) in validation\n",
            "Iteration 700:\n",
            "Got 5049 / 6464 correct (78.11) in train\n",
            "Got 1274 / 1625 correct (78.40) in validation\n",
            "Goten new best val accuracy. Save new best model\n",
            "Got 5183 / 6464 correct (80.18) in train\n",
            "Got 1311 / 1625 correct (80.68) in validation\n",
            "Start 6 epoch\n",
            "Iteration 100:\n",
            "Got 5148 / 6464 correct (79.64) in train\n",
            "Got 1297 / 1625 correct (79.82) in validation\n",
            "Goten new best val accuracy. Save new best model\n",
            "Iteration 200:\n",
            "Got 5164 / 6464 correct (79.89) in train\n",
            "Got 1345 / 1625 correct (82.77) in validation\n",
            "Goten new best val accuracy. Save new best model\n",
            "Iteration 300:\n",
            "Got 5170 / 6464 correct (79.98) in train\n",
            "Got 1294 / 1625 correct (79.63) in validation\n",
            "Iteration 400:\n",
            "Got 5176 / 6464 correct (80.07) in train\n",
            "Got 1322 / 1625 correct (81.35) in validation\n",
            "Iteration 500:\n",
            "Got 5195 / 6464 correct (80.37) in train\n",
            "Got 1302 / 1625 correct (80.12) in validation\n",
            "Iteration 600:\n",
            "Got 5205 / 6464 correct (80.52) in train\n",
            "Got 1326 / 1625 correct (81.60) in validation\n",
            "Iteration 700:\n",
            "Got 5272 / 6464 correct (81.56) in train\n",
            "Got 1326 / 1625 correct (81.60) in validation\n",
            "Got 5033 / 6464 correct (77.86) in train\n",
            "Got 1274 / 1625 correct (78.40) in validation\n",
            "Start 7 epoch\n",
            "Iteration 100:\n",
            "Got 5323 / 6464 correct (82.35) in train\n",
            "Got 1329 / 1625 correct (81.78) in validation\n",
            "Iteration 200:\n",
            "Got 5285 / 6464 correct (81.76) in train\n",
            "Got 1330 / 1625 correct (81.85) in validation\n",
            "Iteration 300:\n",
            "Got 5205 / 6464 correct (80.52) in train\n",
            "Got 1317 / 1625 correct (81.05) in validation\n",
            "Iteration 400:\n",
            "Got 5135 / 6464 correct (79.44) in train\n",
            "Got 1302 / 1625 correct (80.12) in validation\n",
            "Iteration 500:\n",
            "Got 5310 / 6464 correct (82.15) in train\n",
            "Got 1329 / 1625 correct (81.78) in validation\n",
            "Iteration 600:\n",
            "Got 5412 / 6464 correct (83.73) in train\n",
            "Got 1345 / 1625 correct (82.77) in validation\n",
            "Iteration 700:\n",
            "Got 5308 / 6464 correct (82.12) in train\n",
            "Got 1306 / 1625 correct (80.37) in validation\n",
            "Got 5461 / 6464 correct (84.48) in train\n",
            "Got 1343 / 1625 correct (82.65) in validation\n",
            "Start 8 epoch\n",
            "Iteration 100:\n",
            "Got 5449 / 6464 correct (84.30) in train\n",
            "Got 1357 / 1625 correct (83.51) in validation\n",
            "Goten new best val accuracy. Save new best model\n",
            "Iteration 200:\n",
            "Got 5466 / 6464 correct (84.56) in train\n",
            "Got 1344 / 1625 correct (82.71) in validation\n",
            "Iteration 300:\n",
            "Got 5416 / 6464 correct (83.79) in train\n",
            "Got 1342 / 1625 correct (82.58) in validation\n",
            "Iteration 400:\n",
            "Got 5467 / 6464 correct (84.58) in train\n",
            "Got 1355 / 1625 correct (83.38) in validation\n",
            "Iteration 500:\n",
            "Got 5552 / 6464 correct (85.89) in train\n",
            "Got 1350 / 1625 correct (83.08) in validation\n",
            "Iteration 600:\n",
            "Got 5543 / 6464 correct (85.75) in train\n",
            "Got 1352 / 1625 correct (83.20) in validation\n",
            "Iteration 700:\n",
            "Got 5587 / 6464 correct (86.43) in train\n",
            "Got 1361 / 1625 correct (83.75) in validation\n",
            "Goten new best val accuracy. Save new best model\n",
            "Got 5470 / 6464 correct (84.62) in train\n",
            "Got 1333 / 1625 correct (82.03) in validation\n",
            "Start 9 epoch\n",
            "Iteration 100:\n",
            "Got 5463 / 6464 correct (84.51) in train\n",
            "Got 1349 / 1625 correct (83.02) in validation\n",
            "Iteration 200:\n",
            "Got 5500 / 6464 correct (85.09) in train\n",
            "Got 1335 / 1625 correct (82.15) in validation\n",
            "Iteration 300:\n",
            "Got 5579 / 6464 correct (86.31) in train\n",
            "Got 1374 / 1625 correct (84.55) in validation\n",
            "Goten new best val accuracy. Save new best model\n",
            "Iteration 400:\n",
            "Got 5585 / 6464 correct (86.40) in train\n",
            "Got 1359 / 1625 correct (83.63) in validation\n",
            "Iteration 500:\n",
            "Got 5547 / 6464 correct (85.81) in train\n",
            "Got 1353 / 1625 correct (83.26) in validation\n",
            "Iteration 600:\n",
            "Got 5640 / 6464 correct (87.25) in train\n",
            "Got 1394 / 1625 correct (85.78) in validation\n",
            "Goten new best val accuracy. Save new best model\n",
            "Iteration 700:\n",
            "Got 5655 / 6464 correct (87.48) in train\n",
            "Got 1371 / 1625 correct (84.37) in validation\n",
            "Got 5596 / 6464 correct (86.57) in train\n",
            "Got 1350 / 1625 correct (83.08) in validation\n"
          ]
        }
      ]
    },
    {
      "cell_type": "code",
      "source": [
        "# 3-th train with lover lr\n",
        "model, optimizer = createModel()\n",
        "model.cuda() # Adam requare change model to cuda before loading it from save\n",
        "\n",
        "checkpoint = torch.load('/content/drive/MyDrive/BirdsModels/best_model.pt')\n",
        "\n",
        "model.load_state_dict(checkpoint['Model_state_dict'])\n",
        "optimizer.load_state_dict(checkpoint['Optimizer_state_dict'])\n",
        "\n",
        "contTrain = {\n",
        "    'train_accs': checkpoint['Train_accs'],\n",
        "    'val_accs': checkpoint['Val_accs'],\n",
        "    'num_ep': checkpoint['Num_epoch']\n",
        "}\n",
        "\n",
        "for g in optimizer.param_groups:\n",
        "    g['lr'] = 1e-6\n",
        "\n",
        "train_acc, val_acc = train_model(model, optimizer, trainLoader, validLoader, 15, device, 100, \n",
        "                                 savePath='/content/drive/MyDrive/BirdsModels', continueTraining=contTrain)"
      ],
      "metadata": {
        "colab": {
          "base_uri": "https://localhost:8080/"
        },
        "id": "fOJVNr8YKu7q",
        "outputId": "bb7d3012-1d91-476b-f2c0-1d867549ac93"
      },
      "execution_count": 106,
      "outputs": [
        {
          "output_type": "stream",
          "name": "stdout",
          "text": [
            "Continue training from 10 epoch\n",
            "Start 10 epoch\n",
            "Iteration 100:\n",
            "Got 5790 / 6464 correct (89.57) in train\n",
            "Got 1390 / 1625 correct (85.54) in validation\n",
            "Goten new best val accuracy. Save new best model\n",
            "Iteration 200:\n",
            "Got 5832 / 6464 correct (90.22) in train\n",
            "Got 1403 / 1625 correct (86.34) in validation\n",
            "Goten new best val accuracy. Save new best model\n",
            "Iteration 300:\n",
            "Got 5852 / 6464 correct (90.53) in train\n",
            "Got 1412 / 1625 correct (86.89) in validation\n",
            "Goten new best val accuracy. Save new best model\n",
            "Iteration 400:\n",
            "Got 5898 / 6464 correct (91.24) in train\n",
            "Got 1412 / 1625 correct (86.89) in validation\n",
            "Iteration 500:\n",
            "Got 5906 / 6464 correct (91.37) in train\n",
            "Got 1419 / 1625 correct (87.32) in validation\n",
            "Goten new best val accuracy. Save new best model\n",
            "Iteration 600:\n",
            "Got 5930 / 6464 correct (91.74) in train\n",
            "Got 1428 / 1625 correct (87.88) in validation\n",
            "Goten new best val accuracy. Save new best model\n",
            "Iteration 700:\n",
            "Got 5904 / 6464 correct (91.34) in train\n",
            "Got 1421 / 1625 correct (87.45) in validation\n",
            "Got 5926 / 6464 correct (91.68) in train\n",
            "Got 1423 / 1625 correct (87.57) in validation\n",
            "Start 11 epoch\n",
            "Iteration 100:\n",
            "Got 5972 / 6464 correct (92.39) in train\n",
            "Got 1424 / 1625 correct (87.63) in validation\n",
            "Iteration 200:\n",
            "Got 5968 / 6464 correct (92.33) in train\n",
            "Got 1430 / 1625 correct (88.00) in validation\n",
            "Goten new best val accuracy. Save new best model\n",
            "Iteration 300:\n",
            "Got 5966 / 6464 correct (92.30) in train\n",
            "Got 1434 / 1625 correct (88.25) in validation\n",
            "Goten new best val accuracy. Save new best model\n",
            "Iteration 400:\n",
            "Got 5973 / 6464 correct (92.40) in train\n",
            "Got 1434 / 1625 correct (88.25) in validation\n",
            "Iteration 500:\n",
            "Got 5939 / 6464 correct (91.88) in train\n",
            "Got 1435 / 1625 correct (88.31) in validation\n",
            "Goten new best val accuracy. Save new best model\n",
            "Iteration 600:\n",
            "Got 5972 / 6464 correct (92.39) in train\n",
            "Got 1437 / 1625 correct (88.43) in validation\n",
            "Goten new best val accuracy. Save new best model\n",
            "Iteration 700:\n",
            "Got 6002 / 6464 correct (92.85) in train\n",
            "Got 1441 / 1625 correct (88.68) in validation\n",
            "Goten new best val accuracy. Save new best model\n",
            "Got 6005 / 6464 correct (92.90) in train\n",
            "Got 1442 / 1625 correct (88.74) in validation\n",
            "Goten new best val accuracy. Save new best model\n",
            "Start 12 epoch\n",
            "Iteration 100:\n",
            "Got 6038 / 6464 correct (93.41) in train\n",
            "Got 1439 / 1625 correct (88.55) in validation\n",
            "Iteration 200:\n",
            "Got 5999 / 6464 correct (92.81) in train\n",
            "Got 1444 / 1625 correct (88.86) in validation\n",
            "Goten new best val accuracy. Save new best model\n",
            "Iteration 300:\n",
            "Got 5987 / 6464 correct (92.62) in train\n",
            "Got 1441 / 1625 correct (88.68) in validation\n",
            "Iteration 400:\n",
            "Got 5998 / 6464 correct (92.79) in train\n",
            "Got 1447 / 1625 correct (89.05) in validation\n",
            "Goten new best val accuracy. Save new best model\n",
            "Iteration 500:\n",
            "Got 6016 / 6464 correct (93.07) in train\n",
            "Got 1449 / 1625 correct (89.17) in validation\n",
            "Goten new best val accuracy. Save new best model\n",
            "Iteration 600:\n",
            "Got 6025 / 6464 correct (93.21) in train\n",
            "Got 1448 / 1625 correct (89.11) in validation\n",
            "Iteration 700:\n",
            "Got 6003 / 6464 correct (92.87) in train\n",
            "Got 1448 / 1625 correct (89.11) in validation\n",
            "Got 5999 / 6464 correct (92.81) in train\n",
            "Got 1448 / 1625 correct (89.11) in validation\n",
            "Start 13 epoch\n",
            "Iteration 100:\n",
            "Got 6012 / 6464 correct (93.01) in train\n",
            "Got 1447 / 1625 correct (89.05) in validation\n",
            "Iteration 200:\n",
            "Got 6012 / 6464 correct (93.01) in train\n",
            "Got 1452 / 1625 correct (89.35) in validation\n",
            "Goten new best val accuracy. Save new best model\n",
            "Iteration 300:\n",
            "Got 6014 / 6464 correct (93.04) in train\n",
            "Got 1450 / 1625 correct (89.23) in validation\n",
            "Iteration 400:\n",
            "Got 6027 / 6464 correct (93.24) in train\n",
            "Got 1451 / 1625 correct (89.29) in validation\n",
            "Iteration 500:\n",
            "Got 6058 / 6464 correct (93.72) in train\n",
            "Got 1449 / 1625 correct (89.17) in validation\n",
            "Iteration 600:\n",
            "Got 6030 / 6464 correct (93.29) in train\n",
            "Got 1453 / 1625 correct (89.42) in validation\n",
            "Goten new best val accuracy. Save new best model\n",
            "Iteration 700:\n",
            "Got 6025 / 6464 correct (93.21) in train\n",
            "Got 1449 / 1625 correct (89.17) in validation\n",
            "Got 6037 / 6464 correct (93.39) in train\n",
            "Got 1446 / 1625 correct (88.98) in validation\n",
            "Start 14 epoch\n",
            "Iteration 100:\n",
            "Got 6000 / 6464 correct (92.82) in train\n",
            "Got 1449 / 1625 correct (89.17) in validation\n",
            "Iteration 200:\n",
            "Got 6034 / 6464 correct (93.35) in train\n",
            "Got 1452 / 1625 correct (89.35) in validation\n",
            "Iteration 300:\n",
            "Got 6050 / 6464 correct (93.60) in train\n",
            "Got 1449 / 1625 correct (89.17) in validation\n",
            "Iteration 400:\n",
            "Got 6038 / 6464 correct (93.41) in train\n",
            "Got 1448 / 1625 correct (89.11) in validation\n",
            "Iteration 500:\n",
            "Got 6056 / 6464 correct (93.69) in train\n",
            "Got 1453 / 1625 correct (89.42) in validation\n",
            "Iteration 600:\n",
            "Got 6056 / 6464 correct (93.69) in train\n",
            "Got 1450 / 1625 correct (89.23) in validation\n",
            "Iteration 700:\n",
            "Got 6045 / 6464 correct (93.52) in train\n",
            "Got 1452 / 1625 correct (89.35) in validation\n",
            "Got 6023 / 6464 correct (93.18) in train\n",
            "Got 1453 / 1625 correct (89.42) in validation\n"
          ]
        }
      ]
    },
    {
      "cell_type": "code",
      "source": [
        "plt.plot(range(len(train_acc)), train_acc, range(len(val_acc)), val_acc)\n",
        "plt.legend(['train', 'validation'])"
      ],
      "metadata": {
        "colab": {
          "base_uri": "https://localhost:8080/",
          "height": 282
        },
        "id": "YImyHHONd9WE",
        "outputId": "74ba82f1-2361-47d3-b4b2-965275508652"
      },
      "execution_count": 107,
      "outputs": [
        {
          "output_type": "execute_result",
          "data": {
            "text/plain": [
              "<matplotlib.legend.Legend at 0x7ff07373ae10>"
            ]
          },
          "metadata": {},
          "execution_count": 107
        },
        {
          "output_type": "display_data",
          "data": {
            "image/png": "[encoded data removed]",
            "text/plain": [
              "<Figure size 432x288 with 1 Axes>"
            ]
          },
          "metadata": {
            "needs_background": "light"
          }
        }
      ]
    },
    {
      "cell_type": "code",
      "source": [
        "print(torch.cuda.memory_allocated())\n",
        "print(torch.cuda.memory_reserved())\n",
        "print(torch.cuda.memory_summary(device='cuda'))\n",
        "# torch.cuda.empty_cache()"
      ],
      "metadata": {
        "colab": {
          "base_uri": "https://localhost:8080/"
        },
        "id": "6Eorz-uV_8at",
        "outputId": "278b55bc-d6f5-41b2-9e32-ce51d4a7ae79"
      },
      "execution_count": 105,
      "outputs": [
        {
          "output_type": "execute_result",
          "data": {
            "text/plain": [
              "566231040"
            ]
          },
          "metadata": {},
          "execution_count": 105
        }
      ]
    },
    {
      "cell_type": "code",
      "source": [
        ""
      ],
      "metadata": {
        "id": "O7Yj0-rjXxfI"
      },
      "execution_count": null,
      "outputs": []
    },
    {
      "cell_type": "code",
      "source": [
        "# def createModel():\n",
        "#   model = None\n",
        "#   optimizer = None\n",
        "\n",
        "#   input_channels = 3\n",
        "#   channel_1 = 64\n",
        "#   channel_2 = 128\n",
        "#   channel_3 = 256\n",
        "#   channel_4 = 512\n",
        "#   dense_1 = 1024\n",
        "#   dense_2 = 512\n",
        "#   num_classes = 325\n",
        "\n",
        "#   learning_rate = 1e-4\n",
        "#   weight_decay = 1e-5\n",
        "\n",
        "#   model = nn.Sequential(\n",
        "      \n",
        "#       nn.Conv2d(in_channels=input_channels, out_channels=channel_1, kernel_size=5, stride=1, padding=2), # 224 x 224 x 64\n",
        "#       nn.BatchNorm2d(num_features=channel_1),\n",
        "#       nn.ReLU(),\n",
        "\n",
        "#       nn.Conv2d(channel_1, channel_1, 5, 1, 2), # 224 x 224 x 64\n",
        "#       nn.BatchNorm2d(num_features=channel_1),\n",
        "#       nn.ReLU(),\n",
        "\n",
        "#       nn.MaxPool2d(kernel_size=2, stride=2), # 112 x 112 x 64\n",
        "\n",
        "#       nn.Conv2d(channel_1, channel_2, kernel_size=3, stride=1, padding=1), # 112 x 112 x 128\n",
        "#       nn.BatchNorm2d(num_features=channel_2),\n",
        "#       nn.ReLU(),\n",
        "\n",
        "#       nn.Conv2d(channel_2, channel_2, kernel_size=3, stride=1, padding=1), # 112 x 112 x 128\n",
        "#       nn.BatchNorm2d(num_features=channel_2),\n",
        "#       nn.ReLU(),\n",
        "\n",
        "#       nn.MaxPool2d(kernel_size=2, stride=2), # 56 x 56 x 128\n",
        "\n",
        "#       nn.Conv2d(channel_2, channel_3, kernel_size=3, stride=1, padding=1), # 56 x 56 x 256\n",
        "#       nn.BatchNorm2d(num_features=channel_3),\n",
        "#       nn.ReLU(),\n",
        "\n",
        "#       nn.Conv2d(channel_3, channel_3, kernel_size=3, stride=1, padding=1), # 56 x 56 x 256\n",
        "#       nn.BatchNorm2d(num_features=channel_3),\n",
        "#       nn.ReLU(),\n",
        "      \n",
        "#       nn.MaxPool2d(kernel_size=2, stride=2), # 28 x 28 x 256\n",
        "\n",
        "#       nn.Conv2d(channel_3, channel_3, kernel_size=3, stride=1, padding=1), # 28 x 28 x 256\n",
        "#       nn.BatchNorm2d(num_features=channel_3),\n",
        "#       nn.ReLU(),\n",
        "\n",
        "#       # nn.Conv2d(channel_3, channel_3, kernel_size=3, stride=1, padding=1), # 28 x 28 x 256\n",
        "#       # nn.BatchNorm2d(num_features=channel_3),\n",
        "#       # nn.ReLU(),\n",
        "      \n",
        "#       nn.MaxPool2d(kernel_size=2, stride=2), # 14 x 14 x 256\n",
        "      \n",
        "#       nn.Conv2d(channel_3, channel_3, kernel_size=3, stride=1, padding=1), # 14 x 14 x 256\n",
        "#       nn.BatchNorm2d(num_features=channel_3),\n",
        "#       nn.ReLU(),\n",
        "\n",
        "#       # nn.Conv2d(channel_3, channel_3, kernel_size=3, stride=1, padding=1), # 14 x 14 x 256\n",
        "#       # nn.BatchNorm2d(num_features=channel_3),\n",
        "#       # nn.ReLU(),\n",
        "      \n",
        "#       nn.MaxPool2d(kernel_size=2, stride=2), # 7 x 7 x 256\n",
        "\n",
        "#       Flatten(),\n",
        "#       nn.Linear(7 * 7 * channel_3, dense_1),\n",
        "#       nn.ReLU(),\n",
        "#       nn.Dropout(),\n",
        "#       nn.Linear(dense_1, dense_2),\n",
        "#       nn.ReLU(),\n",
        "#       nn.Dropout(),\n",
        "#       nn.Linear(dense_2, num_classes)\n",
        "#   )\n",
        "\n",
        "#   optimizer = optim.Adam(model.parameters(), lr=learning_rate, weight_decay=weight_decay)\n",
        "\n",
        "#   return (model, optimizer)"
      ],
      "metadata": {
        "id": "xSNKopP5RV_F"
      },
      "execution_count": null,
      "outputs": []
    },
    {
      "cell_type": "code",
      "source": [
        "# model, optimizer = createModel()\n",
        "# train_acc, val_acc = train_model(model, optimizer, trainLoader, validLoader, 3, device, 100, savePath='/content/drive/MyDrive/BirdsModels')"
      ],
      "metadata": {
        "id": "1M2GLzwMTgCb"
      },
      "execution_count": null,
      "outputs": []
    }
  ]
}